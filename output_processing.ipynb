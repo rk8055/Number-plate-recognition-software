{
 "cells": [
  {
   "cell_type": "code",
   "execution_count": 25,
   "id": "0226ca40",
   "metadata": {
    "scrolled": true
   },
   "outputs": [],
   "source": [
    "import cv2\n",
    "import os\n",
    "import pytesseract as pt\n",
    "import numpy as np\n"
   ]
  },
  {
   "cell_type": "code",
   "execution_count": 26,
   "id": "f1801f4a",
   "metadata": {},
   "outputs": [],
   "source": [
    "INPUT_WIDTH = 640\n",
    "INPUT_HEIGHT = 640"
   ]
  },
  {
   "cell_type": "code",
   "execution_count": 27,
   "id": "f52d6a03",
   "metadata": {},
   "outputs": [],
   "source": [
    "# loading my images\n",
    "\n",
    "#img = cv2.imread('./test_images/getty_sample.jpg')\n",
    "#cv2.namedWindow('test image', cv2.WINDOW_KEEPRATIO)\n",
    "#cv2.imshow('test image',img)\n",
    "#cv2.waitKey()\n",
    "#cv2.destroyAllWindows()"
   ]
  },
  {
   "cell_type": "code",
   "execution_count": 28,
   "id": "e07dd15f",
   "metadata": {},
   "outputs": [],
   "source": [
    "# loading the yolo models\n",
    "\n",
    "fileNet = cv2.dnn.readNetFromONNX('./Model/weights/best.onnx')\n",
    "fileNet.setPreferableBackend(cv2.dnn.DNN_BACKEND_OPENCV)\n",
    "fileNet.setPreferableTarget(cv2.dnn.DNN_TARGET_CPU)"
   ]
  },
  {
   "cell_type": "code",
   "execution_count": 29,
   "id": "27ef242e",
   "metadata": {},
   "outputs": [],
   "source": [
    "#converting processed images into yolo format\n",
    "def get_dtdcns(img, fileNet):\n",
    "\n",
    "    image = img.copy()\n",
    "    row, col, d = image.shape\n",
    "    rcMaximum = max(row,col)\n",
    "    prcImage = np.zeros((rcMaximum, rcMaximum, 3),dtype = np.uint8)\n",
    "    #getting trained brain from yolo\n",
    "    prcImage[0:row, 0:col] = image\n",
    "    blob = cv2.dnn.blobFromImage(prcImage, 1/255, (INPUT_WIDTH, INPUT_HEIGHT), swapRB = True, crop = False)\n",
    "    fileNet.setInput(blob)\n",
    "    preds = fileNet.forward()\n",
    "    dtdcns = preds[0]\n",
    "    return prcImage, dtdcns\n",
    "\n",
    "\n",
    "# filter images beased on probability and confi points\n",
    "\n",
    "def non_maximum_supression(prcImage, dtdcns):\n",
    "\n",
    "    boxes = []\n",
    "    confis = []\n",
    "    wImg, hImg = prcImage.shape[:2]\n",
    "    xValue = wImg/INPUT_WIDTH\n",
    "    yValue = hImg/INPUT_HEIGHT\n",
    "    \n",
    "    for i in range(len(dtdcns)):\n",
    "        row = dtdcns[i]\n",
    "        confi = row[4] # confi score\n",
    "        if confi > 0.4:\n",
    "            class_score = row[5] # probability score\n",
    "            if class_score > 0.25:\n",
    "                cx, cy, w, h = row[0:4]\n",
    "                lft1 = int((cx - 0.5*w)* xValue)\n",
    "                tp1 = int((cy - 0.5*h)* yValue)\n",
    "                wdt1 = int(w*xValue)\n",
    "                hgt1 = int(h*yValue)\n",
    "                box = np.array([lft1, tp1, wdt1, hgt1])\n",
    "                confis.append(confi)\n",
    "                boxes.append(box)\n",
    "    #cleaning boxes\n",
    "    NPbox = np.array(boxes).tolist()\n",
    "    NPconfi = np.array(confis).tolist()\n",
    "    # using non maximum supression\n",
    "    index = cv2.dnn.NMSBoxes(NPbox, NPconfi, 0.25, 0.45)\n",
    "    return NPbox, NPconfi, index\n",
    "\n",
    "\n",
    "#Drow the boxes\n",
    "def drawings(image, NPbox, NPconfi, index):\n",
    "    \n",
    "    for ind in index:\n",
    "        x, y, w, h = NPbox[ind]\n",
    "        BBconf = NPconfi[ind]\n",
    "        conf_text = 'plate: {:.0f}%'.format(BBconf* 100)\n",
    "        cv2.rectangle(image, (x, y), (x+w, y+h), (255, 0, 255), 2)\n",
    "        cv2.rectangle(image, (x, y-30), (x+w, y), (255, 0, 255), -1)\n",
    "        cv2.putText(image, conf_text, (x, y-10), cv2.FONT_HERSHEY_SIMPLEX, 0.7, (255, 255, 255), 1)\n",
    "    return image"
   ]
  },
  {
   "cell_type": "code",
   "execution_count": 30,
   "id": "b3e445d4",
   "metadata": {},
   "outputs": [],
   "source": [
    "def yolo_predictions(img, fileNet):\n",
    "    \n",
    "    #getting my dtdcns\n",
    "    prcImage, dtdcns = get_dtdcns(img, fileNet)\n",
    "    \n",
    "    #applying non maximal supression\n",
    "    NPbox, NPconfi, index = non_maximum_supression(prcImage, dtdcns)\n",
    "    \n",
    "    #drawing the imgs\n",
    "    resultImg = drawings(img, NPbox, NPconfi, index)\n",
    "    \n",
    "    return resultImg"
   ]
  },
  {
   "cell_type": "code",
   "execution_count": 31,
   "id": "4af685e4",
   "metadata": {},
   "outputs": [],
   "source": [
    "#testing process\n",
    "#make sure your directory is the same\n",
    "img = cv2.imread('./test_images/N22.jpg')\n",
    "\n",
    "photoResults = yolo_predictions(img, fileNet)\n",
    "\n",
    "cv2.namedWindow('photoResults', cv2.WINDOW_KEEPRATIO)\n",
    "cv2.imshow('photoResults', photoResults)\n",
    "cv2.waitKey()\n",
    "cv2.destroyAllWindows()"
   ]
  },
  {
   "cell_type": "code",
   "execution_count": null,
   "id": "798ecda5",
   "metadata": {},
   "outputs": [],
   "source": []
  },
  {
   "cell_type": "code",
   "execution_count": null,
   "id": "6dc5aa64",
   "metadata": {},
   "outputs": [],
   "source": [
    "# processing real time image object detection\n",
    "#make sure your directory is the same\n",
    "cap = cv2.VideoCapture('./test_images/traffic.mp4')\n",
    "\n",
    "while True:\n",
    "    x, frame = cap.read()\n",
    "    if x == False:\n",
    "        print('unable to read video')\n",
    "        break\n",
    "        \n",
    "    videoResults = yolo_predictions(frame, fileNet)\n",
    "    \n",
    "    cv2.namedWindow('videoResult', cv2.WINDOW_KEEPRATIO)\n",
    "    cv2.imshow('videoResult', videoResults)\n",
    "    if cv2.waitKey(1) == 27:\n",
    "        break\n",
    "        \n",
    "cv2.destroyAllWindows()\n",
    "cap.release()"
   ]
  },
  {
   "cell_type": "code",
   "execution_count": null,
   "id": "5d6be55d",
   "metadata": {},
   "outputs": [],
   "source": []
  }
 ],
 "metadata": {
  "kernelspec": {
   "display_name": "Python 3 (ipykernel)",
   "language": "python",
   "name": "python3"
  },
  "language_info": {
   "codemirror_mode": {
    "name": "ipython",
    "version": 3
   },
   "file_extension": ".py",
   "mimetype": "text/x-python",
   "name": "python",
   "nbconvert_exporter": "python",
   "pygments_lexer": "ipython3",
   "version": "3.9.7"
  }
 },
 "nbformat": 4,
 "nbformat_minor": 5
}
